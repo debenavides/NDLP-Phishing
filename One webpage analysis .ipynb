{
 "cells": [
  {
   "cell_type": "markdown",
   "metadata": {
    "colab_type": "text",
    "id": "view-in-github"
   },
   "source": [
    "<a href=\"https://colab.research.google.com/github/akritidu/Multi-label-Classification-in-the-Home-Improvement/blob/main/LSTM_Bi_LSTM_GRU_Bi_GRU.ipynb\" target=\"_parent\"><img src=\"https://colab.research.google.com/assets/colab-badge.svg\" alt=\"Open In Colab\"/></a>"
   ]
  },
  {
   "cell_type": "markdown",
   "metadata": {},
   "source": [
    "# **Load and clean parameter**"
   ]
  },
  {
   "cell_type": "code",
   "execution_count": 1,
   "metadata": {},
   "outputs": [],
   "source": [
    "from numpy import array\n",
    "from tensorflow.keras import Sequential\n",
    "from tensorflow.keras.layers import Activation, Dropout, Dense\n",
    "from tensorflow.keras.layers import Flatten, LSTM, GRU, Bidirectional, GlobalAveragePooling1D\n",
    "from tensorflow.keras.layers import GlobalMaxPooling1D, SpatialDropout1D, GlobalMaxPool1D, BatchNormalization\n",
    "from tensorflow.keras.models import Model\n",
    "from tensorflow.keras.layers import Embedding\n",
    "from tensorflow.keras.preprocessing.text import Tokenizer\n",
    "from tensorflow.keras.layers import Input\n",
    "from tensorflow.keras.layers import Concatenate\n",
    "\n",
    "import pandas as pd\n",
    "import numpy as np\n",
    "import re\n"
   ]
  },
  {
   "cell_type": "code",
   "execution_count": 2,
   "metadata": {},
   "outputs": [
    {
     "data": {
      "text/plain": [
       "'velkommen paypal body display none important self anticlickjack document getelementbyid anticlickjack anticlickjack parentnode removechild anticlickjack else location self location home sidebar login home sidebar welcome background repeat-y scroll left transparent body display block important mange funktioner paypal-websitet javascript cooky aktivere begge browser egenskabsindstillinger spring hovedindhold opret konto sikkerhedscenter land eller region danmark dansk document getelementbyid rosetta style visibility hidden hjem privat erhverv produkter konto medlem e-mail-adresse paypal-adgangskode konto mine transaktioner problemer logge ikke brugt paypal tilmeld betal send penge shop online shop sikkert uden afsl dine betalingskort- eller bankkontooplysninger betal nemt hurtigt handler online betal venner familie shop ebay dansk find varer ikke finde derhjemme brug paypal iphone opret konto mere vide betaling paypal online imod betalingskort bankoverf rsler hurtigt nemt salg tage imod indenlandske internationale betalinger holde betalinger sikre vores sporing forebyggelse bedrageri opret konto mere vide salg paypal typiske rgsm hvorfor bruge paypal betalingskort hvad bruge paypal hvor bruge paypal danmark gratis bruge paypal brug verifikation videoer hvordan fungerer paypal paypal-konto styr konto flere oplysninger kontotyper gebyrer beskyttelse personlige oplysninger sikkerhedscenter kontakt juridiske aftaler henvisninger betal samlet copyright paypal alle rettigheder forbeholdes paypal globalt strig belgien brasilien frankrig tyskland hongkong israel italien mexico holland polen singapore spanien tyrkiet storbritannien mere flere ebay-websites ebay half craigslist kijiji canada prostores rent shopping skype hjem gang hvorfor bruge paypal fungerer hvor send betaling send betaling nettet foretag samlet betaling anmod penge anmod penge send faktura ebay udviklere privat erhverv produkter typeof paypal undefined paypal core navigation init paypal util lazyloadroot addlistener window load function paypal util lazyload iconix function iconix detect addlistener window load function paypal util lazyload pageblockingunsafebrowsers paypal namespace paypal loginflow marketing commanddriven homepage mainhome paypal flashlocation addlistener window load function paypal util lazyload function paypal midinit yahoo util event addlistener window load function paypal init login form paypal init login form login password paypal common appendfield login form paypal common appendfield login form catch prop marketing commanddriven homepage mainhome prop prop main home prop prop prop prop main home evar main home evar main home evar mgiegu fxerinijwd ieprmqav ftlccfcjk blaonk ymamhng pagename main home prop prop prop prop paypalcredit service notransactions document write unescape'"
      ]
     },
     "execution_count": 2,
     "metadata": {},
     "output_type": "execute_result"
    }
   ],
   "source": [
    "# Text example\n",
    "webpage_html = 'velkommen paypal body display none important self anticlickjack document getelementbyid anticlickjack anticlickjack parentnode removechild anticlickjack else location self location home sidebar login home sidebar welcome background repeat-y scroll left transparent body display block important mange funktioner paypal-websitet javascript cooky aktivere begge browser egenskabsindstillinger spring hovedindhold opret konto sikkerhedscenter land eller region danmark dansk document getelementbyid rosetta style visibility hidden hjem privat erhverv produkter konto medlem e-mail-adresse paypal-adgangskode konto mine transaktioner problemer logge ikke brugt paypal tilmeld betal send penge shop online shop sikkert uden afsl dine betalingskort- eller bankkontooplysninger betal nemt hurtigt handler online betal venner familie shop ebay dansk find varer ikke finde derhjemme brug paypal iphone opret konto mere vide betaling paypal online imod betalingskort bankoverf rsler hurtigt nemt salg tage imod indenlandske internationale betalinger holde betalinger sikre vores sporing forebyggelse bedrageri opret konto mere vide salg paypal typiske rgsm hvorfor bruge paypal betalingskort hvad bruge paypal hvor bruge paypal danmark gratis bruge paypal brug verifikation videoer hvordan fungerer paypal paypal-konto styr konto flere oplysninger kontotyper gebyrer beskyttelse personlige oplysninger sikkerhedscenter kontakt juridiske aftaler henvisninger betal samlet copyright paypal alle rettigheder forbeholdes paypal globalt strig belgien brasilien frankrig tyskland hongkong israel italien mexico holland polen singapore spanien tyrkiet storbritannien mere flere ebay-websites ebay half craigslist kijiji canada prostores rent shopping skype hjem gang hvorfor bruge paypal fungerer hvor send betaling send betaling nettet foretag samlet betaling anmod penge anmod penge send faktura ebay udviklere privat erhverv produkter typeof paypal undefined paypal core navigation init paypal util lazyloadroot addlistener window load function paypal util lazyload iconix function iconix detect addlistener window load function paypal util lazyload pageblockingunsafebrowsers paypal namespace paypal loginflow marketing commanddriven homepage mainhome paypal flashlocation addlistener window load function paypal util lazyload function paypal midinit yahoo util event addlistener window load function paypal init login form paypal init login form login password paypal common appendfield login form paypal common appendfield login form catch prop marketing commanddriven homepage mainhome prop prop main home prop prop prop prop main home evar main home evar main home evar mgiegu fxerinijwd ieprmqav ftlccfcjk blaonk ymamhng pagename main home prop prop prop prop paypalcredit service notransactions document write unescape'\n",
    "webpage_html"
   ]
  },
  {
   "cell_type": "code",
   "execution_count": 3,
   "metadata": {
    "colab": {
     "base_uri": "https://localhost:8080/"
    },
    "id": "GhZvp8XY9aaB",
    "outputId": "a1f5b3f0-bd92-4c96-83a6-741594557c0f"
   },
   "outputs": [],
   "source": [
    "from nltk.stem.wordnet import WordNetLemmatizer\n",
    "from nltk import pos_tag\n",
    "from nltk.corpus import wordnet\n",
    "from nltk.corpus import stopwords\n",
    "from nltk.stem.wordnet import WordNetLemmatizer\n",
    "from tensorflow.keras.preprocessing.text import Tokenizer\n",
    "from tensorflow.keras.preprocessing.sequence import pad_sequences\n",
    "import nltk\n",
    "\n",
    "\n",
    "#Lemmatize Words\n",
    "\n",
    "def fetch_pos_tag(tag):\n",
    "    if tag.startswith('J'):\n",
    "        return wordnet.ADJ\n",
    "    elif tag.startswith('V'):\n",
    "        return wordnet.VERB\n",
    "    elif tag.startswith('N'):\n",
    "        return wordnet.NOUN\n",
    "    elif tag.startswith('R'):\n",
    "        return wordnet.ADV\n",
    "    else:\n",
    "        # As default pos in lemmatization is Noun\n",
    "        return wordnet.NOUN\n",
    "\n",
    "lemmatizer = WordNetLemmatizer()\n",
    "\n",
    "REPLACE_URLS = re.compile(r'http[s]?://(?:[a-z]|[0-9]|[$-_@.&+]|[!*\\(\\),]|(?:%[0-9a-f][0-9a-f]))+')\n",
    "REPLACE_HASH = re.compile(r'#(\\w+)')\n",
    "REPLACE_AT = re.compile(r'@(\\w+)')\n",
    "REPLACE_HTML_TAGS = re.compile(r'<[^>]+>')\n",
    "REPLACE_DIGITS = re.compile(r'\\d+')\n",
    "#REPLACE_BY = re.compile(r\"[/(){}\\[\\]\\|,;.:?\\-\\'\\\"$]\")\n",
    "REPLACE_BY = re.compile(r\"[^a-z0-9\\-]\")\n",
    "\n",
    "STOPWORDS = set(stopwords.words('english'))\n",
    "\n",
    "def clean_text(text):\n",
    "    text = text.lower()\n",
    "    text = REPLACE_HTML_TAGS.sub(' ', text)\n",
    "    text = REPLACE_URLS.sub('', text)\n",
    "    text = REPLACE_HASH.sub('', text)\n",
    "    text = REPLACE_AT.sub('', text)\n",
    "    text = REPLACE_DIGITS.sub(' ', text)\n",
    "    text = REPLACE_BY.sub(' ', text)\n",
    "    \n",
    "    \n",
    "    text = \" \".join(lemmatizer.lemmatize(word.strip(), fetch_pos_tag(pos_tag([word.strip()])[0][1])) for word in text.split() if word not in STOPWORDS and len(word)>3)\n",
    "    \n",
    "    return text\n",
    "\n"
   ]
  },
  {
   "cell_type": "code",
   "execution_count": 4,
   "metadata": {},
   "outputs": [],
   "source": [
    "webpage_text = clean_text(webpage_html)"
   ]
  },
  {
   "cell_type": "code",
   "execution_count": 5,
   "metadata": {},
   "outputs": [
    {
     "name": "stdout",
     "output_type": "stream",
     "text": [
      "['velkommen paypal body display none important self anticlickjack document getelementbyid anticlickjack anticlickjack parentnode removechild anticlickjack else location self location home sidebar login home sidebar welcome background repeat-y scroll left transparent body display block important mange funktioner paypal-websitet javascript cooky aktivere begge browser egenskabsindstillinger spring hovedindhold opret konto sikkerhedscenter land eller region danmark dansk document getelementbyid rosetta style visibility hidden hjem privat erhverv produkter konto medlem e-mail-adresse paypal-adgangskode konto mine transaktioner problemer logge ikke brugt paypal tilmeld betal send penge shop online shop sikkert uden afsl dine betalingskort- eller bankkontooplysninger betal nemt hurtigt handler online betal venner familie shop ebay dansk find varer ikke finde derhjemme brug paypal iphone opret konto mere vide betaling paypal online imod betalingskort bankoverf rsler hurtigt nemt salg tage imod indenlandske internationale betalinger holde betalinger sikre vores sporing forebyggelse bedrageri opret konto mere vide salg paypal typiske rgsm hvorfor bruge paypal betalingskort hvad bruge paypal hvor bruge paypal danmark gratis bruge paypal brug verifikation videoer hvordan fungerer paypal paypal-konto styr konto flere oplysninger kontotyper gebyrer beskyttelse personlige oplysninger sikkerhedscenter kontakt juridiske aftaler henvisninger betal samlet copyright paypal alle rettigheder forbeholdes paypal globalt strig belgien brasilien frankrig tyskland hongkong israel italien mexico holland polen singapore spanien tyrkiet storbritannien mere flere ebay-websites ebay half craigslist kijiji canada prostores rent shopping skype hjem gang hvorfor bruge paypal fungerer hvor send betaling send betaling nettet foretag samlet betaling anmod penge anmod penge send faktura ebay udviklere privat erhverv produkter typeof paypal undefined paypal core navigation init paypal util lazyloadroot addlistener window load function paypal util lazyload iconix function iconix detect addlistener window load function paypal util lazyload pageblockingunsafebrowsers paypal namespace paypal loginflow marketing commanddriven homepage mainhome paypal flashlocation addlistener window load function paypal util lazyload function paypal midinit yahoo util event addlistener window load function paypal init login form paypal init login form login password paypal common appendfield login form paypal common appendfield login form catch prop marketing commanddriven homepage mainhome prop prop main home prop prop prop prop main home evar main home evar main home evar mgiegu fxerinijwd ieprmqav ftlccfcjk blaonk ymamhng pagename main home prop prop prop prop paypalcredit service notransactions document write unescape']\n"
     ]
    }
   ],
   "source": [
    "new_string = [webpage_text]\n",
    "print(new_string)\n",
    "webpage_text_v = new_string"
   ]
  },
  {
   "cell_type": "code",
   "execution_count": 6,
   "metadata": {},
   "outputs": [
    {
     "data": {
      "text/plain": [
       "array([[137,  54,   1,   1,   4, 138,   4,  55,  56, 139, 140, 141, 142,\n",
       "         56,  36, 143, 144, 145, 146,  11,  57, 147,   1, 148, 149, 150,\n",
       "          1, 151, 152, 153, 154, 155, 156, 157, 158, 159, 160, 161, 162,\n",
       "        163, 164, 165, 166,  25,  55,  13, 167,  13, 168, 169, 170, 171,\n",
       "        172, 173, 174, 175,  40, 176,  52,   7,   1,  54,  53,  12,  14,\n",
       "         12,  14, 177, 178,  57,  14,  58,  21,  58,  21,  12, 179,  13,\n",
       "        180,  41,  42,  43, 181,   1, 182,   1, 183, 184,  26,   1,   8,\n",
       "        185,  15,  16,  17,   6,   1,   8,  27,  59,   6,  59, 186,  15,\n",
       "         16,  17,   6,   1,   8,  27, 187,   1, 188,   1, 189,  60,  61,\n",
       "         62,  63,   1, 190,  15,  16,  17,   6,   1,   8,  27,   6,   1,\n",
       "        191, 192,   8, 193,  15,  16,  17,   6,   1,  26,   5,  18,   1,\n",
       "         26,   5,  18,   5, 194,   1,  64,  65,   5,  18,   1,  64,  65,\n",
       "          5,  18, 195,   2,  60,  61,  62,  63,   2,   2,   9,   3,   2,\n",
       "          2,   2,   2,   9,   3,  28,   9,   3,  28,   9,   3,  28, 196,\n",
       "        197, 198, 199, 200, 201, 202,   9,   3,   2,   2,   2,   2, 203,\n",
       "        204, 205,  19, 206, 207]], dtype=int32)"
      ]
     },
     "execution_count": 6,
     "metadata": {},
     "output_type": "execute_result"
    }
   ],
   "source": [
    "tokenizer = Tokenizer(num_words=3000)\n",
    "tokenizer.fit_on_texts(webpage_text_v)\n",
    "webpage_text_v = tokenizer.texts_to_sequences(webpage_text_v)\n",
    "vocab_size = len(tokenizer.word_index) + 1\n",
    "maxlen = 200\n",
    "webpage_text_v = pad_sequences(webpage_text_v, padding='post', maxlen=maxlen)\n",
    "webpage_text_v"
   ]
  },
  {
   "cell_type": "markdown",
   "metadata": {},
   "source": [
    "# **Prediction**"
   ]
  },
  {
   "cell_type": "code",
   "execution_count": 7,
   "metadata": {},
   "outputs": [
    {
     "name": "stdout",
     "output_type": "stream",
     "text": [
      "Model: \"functional_3\"\n",
      "__________________________________________________________________________________________________\n",
      "Layer (type)                    Output Shape         Param #     Connected to                     \n",
      "==================================================================================================\n",
      "input_2 (InputLayer)            [(None, 200)]        0                                            \n",
      "__________________________________________________________________________________________________\n",
      "embedding_1 (Embedding)         (None, 200, 50)      8662250     input_2[0][0]                    \n",
      "__________________________________________________________________________________________________\n",
      "spatial_dropout1d_1 (SpatialDro (None, 200, 50)      0           embedding_1[0][0]                \n",
      "__________________________________________________________________________________________________\n",
      "bidirectional_1 (Bidirectional) (None, 200, 128)     44544       spatial_dropout1d_1[0][0]        \n",
      "__________________________________________________________________________________________________\n",
      "conv1d_1 (Conv1D)               (None, 198, 128)     49280       bidirectional_1[0][0]            \n",
      "__________________________________________________________________________________________________\n",
      "global_average_pooling1d_1 (Glo (None, 128)          0           conv1d_1[0][0]                   \n",
      "__________________________________________________________________________________________________\n",
      "global_max_pooling1d_1 (GlobalM (None, 128)          0           conv1d_1[0][0]                   \n",
      "__________________________________________________________________________________________________\n",
      "concatenate_1 (Concatenate)     (None, 256)          0           global_average_pooling1d_1[0][0] \n",
      "                                                                 global_max_pooling1d_1[0][0]     \n",
      "__________________________________________________________________________________________________\n",
      "dense_1 (Dense)                 (None, 2)            514         concatenate_1[0][0]              \n",
      "==================================================================================================\n",
      "Total params: 8,756,588\n",
      "Trainable params: 94,338\n",
      "Non-trainable params: 8,662,250\n",
      "__________________________________________________________________________________________________\n"
     ]
    }
   ],
   "source": [
    "# Load model\n",
    "from tensorflow.keras.models import load_model\n",
    "model1 = load_model('NDLP_model.h5')\n",
    "model1.summary()"
   ]
  },
  {
   "cell_type": "code",
   "execution_count": 8,
   "metadata": {},
   "outputs": [],
   "source": [
    "results = model1.predict(webpage_text_v)"
   ]
  },
  {
   "cell_type": "code",
   "execution_count": 9,
   "metadata": {},
   "outputs": [
    {
     "data": {
      "text/plain": [
       "(1, 2)"
      ]
     },
     "execution_count": 9,
     "metadata": {},
     "output_type": "execute_result"
    }
   ],
   "source": [
    "results.shape"
   ]
  },
  {
   "cell_type": "code",
   "execution_count": 10,
   "metadata": {},
   "outputs": [
    {
     "data": {
      "text/plain": [
       "array([[0.08400315, 0.9360965 ]], dtype=float32)"
      ]
     },
     "execution_count": 10,
     "metadata": {},
     "output_type": "execute_result"
    }
   ],
   "source": [
    "results"
   ]
  }
 ],
 "metadata": {
  "accelerator": "GPU",
  "colab": {
   "collapsed_sections": [],
   "include_colab_link": true,
   "name": "LSTM_Bi-LSTM_GRU_Bi-GRU.ipynb",
   "provenance": []
  },
  "kernelspec": {
   "display_name": "Python 3",
   "language": "python",
   "name": "python3"
  },
  "language_info": {
   "codemirror_mode": {
    "name": "ipython",
    "version": 3
   },
   "file_extension": ".py",
   "mimetype": "text/x-python",
   "name": "python",
   "nbconvert_exporter": "python",
   "pygments_lexer": "ipython3",
   "version": "3.5.2"
  }
 },
 "nbformat": 4,
 "nbformat_minor": 1
}
